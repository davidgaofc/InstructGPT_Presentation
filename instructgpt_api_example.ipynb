{
 "cells": [
  {
   "cell_type": "code",
   "execution_count": 6,
   "metadata": {
    "collapsed": true
   },
   "outputs": [],
   "source": [
    "import openai\n",
    "import os"
   ]
  },
  {
   "cell_type": "code",
   "execution_count": 7,
   "outputs": [],
   "source": [
    "openai.api_key = 'sk-<your key here>'\n",
    "#uncomment the line below if you have your api key set as an environment variable\n",
    "#openai.api_key = os.getenv(\"OPENAI_API_KEY\")"
   ],
   "metadata": {
    "collapsed": false
   }
  },
  {
   "cell_type": "code",
   "execution_count": 8,
   "outputs": [],
   "source": [
    "my_prompt = \"Explain what InstructGPT is.\""
   ],
   "metadata": {
    "collapsed": false
   }
  },
  {
   "cell_type": "code",
   "execution_count": 13,
   "outputs": [],
   "source": [
    "result = openai.Completion.create(\n",
    "  model=\"gpt-3.5-turbo-instruct\",\n",
    "  prompt=my_prompt,\n",
    "  max_tokens=500,\n",
    "  temperature=0\n",
    ")"
   ],
   "metadata": {
    "collapsed": false
   }
  },
  {
   "cell_type": "markdown",
   "source": [
    "The result object will look something like the following:\n",
    "---\n",
    "```json\n",
    "{\n",
    "  \"id\": \"cmpl-uqkvlQyYK7bGYrRHQ0eXlWi7\",\n",
    "  \"object\": \"text_completion\",\n",
    "  \"created\": 1589478378,\n",
    "  \"model\": \"gpt-3.5-turbo-instruct\",\n",
    "  \"choices\": [\n",
    "    {\n",
    "      \"text\": \"\\n\\nThis is indeed a test\",\n",
    "      \"index\": 0,\n",
    "      \"logprobs\": null,\n",
    "      \"finish_reason\": \"length\"\n",
    "    }\n",
    "  ],\n",
    "  \"usage\": {\n",
    "    \"prompt_tokens\": 5,\n",
    "    \"completion_tokens\": 7,\n",
    "    \"total_tokens\": 12\n",
    "  }\n",
    "}\n",
    "```"
   ],
   "metadata": {
    "collapsed": false
   }
  },
  {
   "cell_type": "code",
   "execution_count": 14,
   "outputs": [
    {
     "name": "stdout",
     "output_type": "stream",
     "text": [
      "\n",
      "\n",
      "InstructGPT is a natural language processing (NLP) tool that uses the GPT (Generative Pre-trained Transformer) model to generate human-like text based on given instructions. It is a type of text generation AI that can be trained on specific tasks and domains, allowing it to produce text that is tailored to a particular purpose or topic. InstructGPT can be used for a variety of applications, such as chatbots, content creation, and language translation. It is trained on a large dataset of text and uses deep learning algorithms to understand and generate text based on the given instructions. This allows it to produce coherent and contextually relevant responses, making it a powerful tool for natural language processing tasks.\n"
     ]
    }
   ],
   "source": [
    "print(result['choices'][0]['text'])"
   ],
   "metadata": {
    "collapsed": false
   }
  },
  {
   "cell_type": "code",
   "execution_count": null,
   "outputs": [],
   "source": [],
   "metadata": {
    "collapsed": false
   }
  }
 ],
 "metadata": {
  "kernelspec": {
   "display_name": "Python 3",
   "language": "python",
   "name": "python3"
  },
  "language_info": {
   "codemirror_mode": {
    "name": "ipython",
    "version": 2
   },
   "file_extension": ".py",
   "mimetype": "text/x-python",
   "name": "python",
   "nbconvert_exporter": "python",
   "pygments_lexer": "ipython2",
   "version": "2.7.6"
  }
 },
 "nbformat": 4,
 "nbformat_minor": 0
}
